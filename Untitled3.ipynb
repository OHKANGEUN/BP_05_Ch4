{
  "nbformat": 4,
  "nbformat_minor": 0,
  "metadata": {
    "colab": {
      "provenance": [],
      "authorship_tag": "ABX9TyOCfGM6ZlsWRWASYeQFuT/P",
      "include_colab_link": true
    },
    "kernelspec": {
      "name": "python3",
      "display_name": "Python 3"
    },
    "language_info": {
      "name": "python"
    }
  },
  "cells": [
    {
      "cell_type": "markdown",
      "metadata": {
        "id": "view-in-github",
        "colab_type": "text"
      },
      "source": [
        "<a href=\"https://colab.research.google.com/github/OHKANGEUN/BP_05_Ch4/blob/main/Untitled3.ipynb\" target=\"_parent\"><img src=\"https://colab.research.google.com/assets/colab-badge.svg\" alt=\"Open In Colab\"/></a>"
      ]
    },
    {
      "cell_type": "markdown",
      "source": [
        "1.왜 다음과 같은 오류가 발생하는가?올바르게 수정하라.\n",
        "('나는 ' + 12 + '개의 사과를 먹었다.)'"
      ],
      "metadata": {
        "id": "9N6OWCx6b01E"
      }
    },
    {
      "cell_type": "code",
      "execution_count": 7,
      "metadata": {
        "colab": {
          "base_uri": "https://localhost:8080/",
          "height": 35
        },
        "id": "4fWTQaLKbC5q",
        "outputId": "a7b4bbe1-da80-48d6-a7c5-1df6b266bcfa"
      },
      "outputs": [
        {
          "output_type": "execute_result",
          "data": {
            "text/plain": [
              "'나는12개의 사과를 먹었다.'"
            ],
            "application/vnd.google.colaboratory.intrinsic+json": {
              "type": "string"
            }
          },
          "metadata": {},
          "execution_count": 7
        }
      ],
      "source": [
        "'나는' +str(12)+ '개의 사과를 먹었다.'"
      ]
    },
    {
      "cell_type": "markdown",
      "source": [
        "2.다음과같은 수식을 계산하면 결과는 무엇인가??"
      ],
      "metadata": {
        "id": "88Vslaq5dN_4"
      }
    },
    {
      "cell_type": "code",
      "source": [
        "'apple' + 'grape'\n",
        "'apple'*3"
      ],
      "metadata": {
        "colab": {
          "base_uri": "https://localhost:8080/",
          "height": 35
        },
        "id": "5y8if3k0dZTH",
        "outputId": "dd23eb86-cb2e-414b-b8a5-a31dada918ad"
      },
      "execution_count": 3,
      "outputs": [
        {
          "output_type": "execute_result",
          "data": {
            "text/plain": [
              "'appleappleapple'"
            ],
            "application/vnd.google.colaboratory.intrinsic+json": {
              "type": "string"
            }
          },
          "metadata": {},
          "execution_count": 3
        }
      ]
    },
    {
      "cell_type": "markdown",
      "source": [
        "다음과 같이 사용자가 이비력한 문자열 중에서 처음 2글자와 글자를 추출한 후에 이들을 합쳐서 출력해보자."
      ],
      "metadata": {
        "id": "hXPtmWRgdvLu"
      }
    },
    {
      "cell_type": "code",
      "source": [
        "str=input(\"문자열을 입력하시오:\")\n",
        "s=str[0:2]+str[-2:]\n",
        "print(s)"
      ],
      "metadata": {
        "colab": {
          "base_uri": "https://localhost:8080/"
        },
        "id": "d1fhZ7eKd6M8",
        "outputId": "f74e1179-aa25-41ba-9dcf-f4519c086e70"
      },
      "execution_count": 10,
      "outputs": [
        {
          "output_type": "stream",
          "name": "stdout",
          "text": [
            "문자열을 입력하시오:python\n",
            "pyon\n"
          ]
        }
      ]
    },
    {
      "cell_type": "markdown",
      "source": [
        "다음과 같이 사용자가 입력한 문자열 뒤에 항상\"하는중\"을 붙이는 프로그램을 작성해보자."
      ],
      "metadata": {
        "id": "6ywnVPcEe8Sj"
      }
    },
    {
      "cell_type": "code",
      "source": [
        "s=input(\"문자열을 입력하시오:\")\n",
        "s += \"하는 중\"\n",
        "print(s)"
      ],
      "metadata": {
        "colab": {
          "base_uri": "https://localhost:8080/"
        },
        "id": "C7Hi9-YyfIEI",
        "outputId": "8fb1dd69-7bd8-403d-f3a5-e5a5b84cf05a"
      },
      "execution_count": 11,
      "outputs": [
        {
          "output_type": "stream",
          "name": "stdout",
          "text": [
            "문자열을 입력하시오:청소\n",
            "청소하는 중\n"
          ]
        }
      ]
    },
    {
      "cell_type": "markdown",
      "source": [
        "사용자가 입력한 기호안에 문자열을 삽입하려면 어떻게 해야하는가? 기호는문자2개로 이루어있다고 가정한다."
      ],
      "metadata": {
        "id": "opGXpYgEfV90"
      }
    },
    {
      "cell_type": "code",
      "source": [
        "str=input(\"기호를 입력하시오:\")\n",
        "word=input(\"중간에 삽입할 문자열을 입력하시오:\")\n",
        "s=str[:1]+word+str[1:]\n",
        "\n",
        "print(s)"
      ],
      "metadata": {
        "colab": {
          "base_uri": "https://localhost:8080/"
        },
        "id": "lQQdyiF2feuu",
        "outputId": "bedec699-25e8-4707-a5a8-a0a528a2dd82"
      },
      "execution_count": 12,
      "outputs": [
        {
          "output_type": "stream",
          "name": "stdout",
          "text": [
            "기호를 입력하시오:11\n",
            "중간에 삽입할 문자열을 입력하시오:python\n",
            "1python1\n"
          ]
        }
      ]
    },
    {
      "cell_type": "markdown",
      "source": [
        "6.4개의 숫자가 들어있는 리스트가 있다.리스트 안의숫자들을 꺼내서 합계를 계산하여 출력하는 프로그램을 작성하라.반복문은 사용하지 않는다.리스트의 길이는 항상 4라고 가정한다."
      ],
      "metadata": {
        "id": "rDdrwWEagE3S"
      }
    },
    {
      "cell_type": "code",
      "source": [
        "lista=[1,2,3,4]\n",
        "sum=0\n",
        "sum=lista[0]+lista[1]+lista[2]+lista[3]\n",
        "print(\"리스트 =\",lista)\n",
        "print(\"리스트 숫자들의 합=\", sum)"
      ],
      "metadata": {
        "colab": {
          "base_uri": "https://localhost:8080/"
        },
        "id": "at7XwVlVgbz6",
        "outputId": "027f01f2-c455-4400-f7f8-bdd34960a496"
      },
      "execution_count": 13,
      "outputs": [
        {
          "output_type": "stream",
          "name": "stdout",
          "text": [
            "리스트 = [1, 2, 3, 4]\n",
            "리스트 숫자들의 합= 10\n"
          ]
        }
      ]
    },
    {
      "cell_type": "markdown",
      "source": [
        "사용자가 입력하는 3가지 색상을 리스트에 저장했다가 하나씩 꺼내서 그 색상으로 채워진 원을 그리는 프로그램을 작성해보자.반복문은 사용하지 않는다.채워진 원을그리려면 다음과 같은 문장들을 사용한다\n",
        "t.fillcolor(\"yello\")    #채워지는 색상을 지정한다.\n",
        "t.begin_fill()          #채우기를 시작한다\n",
        "t.circle(50)            #채워진 원을 그린다.\n",
        "t.end_fill()            #채우기를 종료한다"
      ],
      "metadata": {
        "id": "RwF75f_bhGCz"
      }
    },
    {
      "cell_type": "code",
      "source": [
        "import turtle\n",
        "t= turtle.Turtle()\n",
        "\n",
        "lista=[]\n",
        "color=input(\"색상 #1을 입력하시오:\")\n",
        "lista.append(color)\n",
        "color=input(\"색상 #2을 입력하시오:\")\n",
        "lista.append(color)\n",
        "color=input(\"색상 #3을 입력하시오:\")\n",
        "lista.append(color)\n",
        "\n",
        "\n",
        "t.fillcolor(lista[0])\n",
        "t.begin_fill()\n",
        "t.circle(50)\n",
        "t.end_fill()\n",
        "\n",
        "\n",
        "t.up()\n",
        "t.gorto(100,0)\n",
        "t.down()\n",
        "t.fillcolor(lista[1])\n",
        "t.begin_fill()\n",
        "t.circle(50)\n",
        "t.end_fill()\n",
        "\n",
        "\n",
        "t.up()\n",
        "t.goto(200,0)\n",
        "t.down()\n",
        "t.fillcolor(lista[2])\n",
        "t.begin_fill()\n",
        "t.circle(50)\n",
        "t.end_fill()\n"
      ],
      "metadata": {
        "id": "eMu4Qn98iEhf"
      },
      "execution_count": null,
      "outputs": []
    }
  ]
}